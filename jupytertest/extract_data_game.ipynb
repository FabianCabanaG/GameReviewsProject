{
 "cells": [
  {
   "cell_type": "code",
   "execution_count": 1,
   "id": "1edb20d3-599b-4b6d-a43c-54a5c7b66970",
   "metadata": {},
   "outputs": [],
   "source": [
    "import time\n",
    "import csv\n",
    "from selenium import webdriver\n",
    "from selenium.webdriver.chrome.options import Options\n",
    "from selenium.webdriver.common.by import By"
   ]
  },
  {
   "cell_type": "code",
   "execution_count": 3,
   "id": "40ed17a1-32e1-41ac-a0ab-ebe15370c3ce",
   "metadata": {},
   "outputs": [],
   "source": [
    "# Configurar Chrome\n",
    "options = Options()\n",
    "#options.add_argument(\"--headless\")  # Comenta esto para ver el navegador\n",
    "#options.add_argument(\"--start-maximized\")\n",
    "options.add_argument(\"--window-size=1920,1080\")\n",
    "driver = webdriver.Chrome(options=options)"
   ]
  },
  {
   "cell_type": "code",
   "execution_count": 5,
   "id": "579109f9-9396-4ebc-88b3-d42761141bb4",
   "metadata": {},
   "outputs": [
    {
     "name": "stdout",
     "output_type": "stream",
     "text": [
      "Steam Community :: IdleOn - The Idle RPG\n"
     ]
    }
   ],
   "source": [
    "driver.get(\"https://steamcommunity.com/app/1476970/reviews/?browsefilter=toprated&snr=1_5_100010_&l=english\")\n",
    "print(driver.title)  # Verifica que cargó la página correctamente"
   ]
  },
  {
   "cell_type": "code",
   "execution_count": 7,
   "id": "13f2ba07-7973-46d6-9f03-752abfd51a35",
   "metadata": {},
   "outputs": [
    {
     "name": "stdout",
     "output_type": "stream",
     "text": [
      "Haciendo scroll #1...\n",
      "Haciendo scroll #2...\n",
      "Haciendo scroll #3...\n",
      "Haciendo scroll #4...\n",
      "Haciendo scroll #5...\n",
      "Haciendo scroll #6...\n",
      "Haciendo scroll #7...\n",
      "Haciendo scroll #8...\n",
      "Haciendo scroll #9...\n",
      "Haciendo scroll #10...\n",
      "Haciendo scroll #11...\n",
      "Haciendo scroll #12...\n",
      "Haciendo scroll #13...\n",
      "Haciendo scroll #14...\n",
      "Haciendo scroll #15...\n",
      "Haciendo scroll #16...\n",
      "Haciendo scroll #17...\n",
      "Haciendo scroll #18...\n",
      "Haciendo scroll #19...\n",
      "Haciendo scroll #20...\n",
      "Haciendo scroll #21...\n",
      "Haciendo scroll #22...\n",
      "Haciendo scroll #23...\n",
      "Haciendo scroll #24...\n",
      "Haciendo scroll #25...\n",
      "Haciendo scroll #26...\n",
      "Haciendo scroll #27...\n",
      "Haciendo scroll #28...\n",
      "Haciendo scroll #29...\n",
      "Haciendo scroll #30...\n",
      "Haciendo scroll #31...\n",
      "Haciendo scroll #32...\n",
      "Haciendo scroll #33...\n",
      "Haciendo scroll #34...\n",
      "Haciendo scroll #35...\n",
      "Haciendo scroll #36...\n",
      "Haciendo scroll #37...\n",
      "Haciendo scroll #38...\n",
      "Haciendo scroll #39...\n",
      "Haciendo scroll #40...\n",
      "Haciendo scroll #41...\n",
      "Haciendo scroll #42...\n",
      "Haciendo scroll #43...\n",
      "Haciendo scroll #44...\n",
      "Haciendo scroll #45...\n",
      "Haciendo scroll #46...\n",
      "Haciendo scroll #47...\n",
      "Haciendo scroll #48...\n",
      "Haciendo scroll #49...\n",
      "Haciendo scroll #50...\n",
      "Haciendo scroll #51...\n",
      "Haciendo scroll #52...\n",
      "Haciendo scroll #53...\n",
      "Haciendo scroll #54...\n",
      "Haciendo scroll #55...\n",
      "Haciendo scroll #56...\n",
      "Haciendo scroll #57...\n",
      "Haciendo scroll #58...\n",
      "Haciendo scroll #59...\n",
      "Haciendo scroll #60...\n",
      "Haciendo scroll #61...\n",
      "Haciendo scroll #62...\n",
      "Haciendo scroll #63...\n",
      "Haciendo scroll #64...\n",
      "Haciendo scroll #65...\n",
      "Haciendo scroll #66...\n",
      "Haciendo scroll #67...\n",
      "Haciendo scroll #68...\n",
      "Haciendo scroll #69...\n",
      "Haciendo scroll #70...\n",
      "Haciendo scroll #71...\n",
      "Haciendo scroll #72...\n",
      "Haciendo scroll #73...\n",
      "Haciendo scroll #74...\n",
      "Haciendo scroll #75...\n",
      "Haciendo scroll #76...\n",
      "Haciendo scroll #77...\n",
      "Haciendo scroll #78...\n",
      "Haciendo scroll #79...\n",
      "Haciendo scroll #80...\n",
      "Haciendo scroll #81...\n",
      "Haciendo scroll #82...\n",
      "Haciendo scroll #83...\n",
      "Haciendo scroll #84...\n",
      "Haciendo scroll #85...\n",
      "Haciendo scroll #86...\n",
      "Haciendo scroll #87...\n",
      "Haciendo scroll #88...\n",
      "Haciendo scroll #89...\n",
      "Haciendo scroll #90...\n",
      "Haciendo scroll #91...\n",
      "Haciendo scroll #92...\n",
      "Haciendo scroll #93...\n",
      "Haciendo scroll #94...\n",
      "Haciendo scroll #95...\n",
      "Haciendo scroll #96...\n",
      "Haciendo scroll #97...\n",
      "Haciendo scroll #98...\n",
      "Haciendo scroll #99...\n",
      "Haciendo scroll #100...\n",
      "\n",
      "Total de reseñas cargadas: 1010\n",
      "\n"
     ]
    }
   ],
   "source": [
    "time.sleep(5)\n",
    "\n",
    "# Scroll dinámico\n",
    "max_scrolls = 100\n",
    "prev_count = 0\n",
    "reviews = []  # Declarar fuera del bucle\n",
    "\n",
    "for i in range(max_scrolls):\n",
    "    print(f\"Haciendo scroll #{i+1}...\")\n",
    "    driver.execute_script(\"window.scrollTo(0, document.body.scrollHeight);\")\n",
    "    time.sleep(4)\n",
    "    current_reviews = driver.find_elements(By.CLASS_NAME, \"apphub_Card\")\n",
    "    if len(current_reviews) == prev_count:\n",
    "        break\n",
    "    prev_count = len(current_reviews)\n",
    "    reviews = current_reviews\n",
    "\n",
    "print(f\"\\nTotal de reseñas cargadas: {len(reviews)}\\n\")\n"
   ]
  },
  {
   "cell_type": "raw",
   "id": "afdccd52-7327-44f0-81f9-87e24cf79385",
   "metadata": {},
   "source": [
    "print(\"a\")"
   ]
  },
  {
   "cell_type": "code",
   "execution_count": 9,
   "id": "fa30f4ad-85ac-467d-8c2b-1faad7a469c6",
   "metadata": {},
   "outputs": [
    {
     "name": "stdout",
     "output_type": "stream",
     "text": [
      "[<selenium.webdriver.remote.webelement.WebElement (session=\"29c127311bb28c0fe08645644ceb8634\", element=\"f.A06B0E19AA7E66A6E192A405B96E94FE.d.95F95D57FE33E9223A2D402853FF9B0C.e.46\")>, <selenium.webdriver.remote.webelement.WebElement (session=\"29c127311bb28c0fe08645644ceb8634\", element=\"f.A06B0E19AA7E66A6E192A405B96E94FE.d.95F95D57FE33E9223A2D402853FF9B0C.e.47\")>, <selenium.webdriver.remote.webelement.WebElement (session=\"29c127311bb28c0fe08645644ceb8634\", element=\"f.A06B0E19AA7E66A6E192A405B96E94FE.d.95F95D57FE33E9223A2D402853FF9B0C.e.48\")>, <selenium.webdriver.remote.webelement.WebElement (session=\"29c127311bb28c0fe08645644ceb8634\", element=\"f.A06B0E19AA7E66A6E192A405B96E94FE.d.95F95D57FE33E9223A2D402853FF9B0C.e.49\")>, <selenium.webdriver.remote.webelement.WebElement (session=\"29c127311bb28c0fe08645644ceb8634\", element=\"f.A06B0E19AA7E66A6E192A405B96E94FE.d.95F95D57FE33E9223A2D402853FF9B0C.e.50\")>, <selenium.webdriver.remote.webelement.WebElement (session=\"29c127311bb28c0fe08645644ceb8634\", element=\"f.A06B0E19AA7E66A6E192A405B96E94FE.d.95F95D57FE33E9223A2D402853FF9B0C.e.51\")>, <selenium.webdriver.remote.webelement.WebElement (session=\"29c127311bb28c0fe08645644ceb8634\", element=\"f.A06B0E19AA7E66A6E192A405B96E94FE.d.95F95D57FE33E9223A2D402853FF9B0C.e.52\")>, <selenium.webdriver.remote.webelement.WebElement (session=\"29c127311bb28c0fe08645644ceb8634\", element=\"f.A06B0E19AA7E66A6E192A405B96E94FE.d.95F95D57FE33E9223A2D402853FF9B0C.e.53\")>, <selenium.webdriver.remote.webelement.WebElement (session=\"29c127311bb28c0fe08645644ceb8634\", element=\"f.A06B0E19AA7E66A6E192A405B96E94FE.d.95F95D57FE33E9223A2D402853FF9B0C.e.54\")>, <selenium.webdriver.remote.webelement.WebElement (session=\"29c127311bb28c0fe08645644ceb8634\", element=\"f.A06B0E19AA7E66A6E192A405B96E94FE.d.95F95D57FE33E9223A2D402853FF9B0C.e.55\")>, <selenium.webdriver.remote.webelement.WebElement (session=\"29c127311bb28c0fe08645644ceb8634\", element=\"f.A06B0E19AA7E66A6E192A405B96E94FE.d.95F95D57FE33E9223A2D402853FF9B0C.e.56\")>, <selenium.webdriver.remote.webelement.WebElement (session=\"29c127311bb28c0fe08645644ceb8634\", element=\"f.A06B0E19AA7E66A6E192A405B96E94FE.d.95F95D57FE33E9223A2D402853FF9B0C.e.57\")>, <selenium.webdriver.remote.webelement.WebElement (session=\"29c127311bb28c0fe08645644ceb8634\", element=\"f.A06B0E19AA7E66A6E192A405B96E94FE.d.95F95D57FE33E9223A2D402853FF9B0C.e.58\")>, <selenium.webdriver.remote.webelement.WebElement (session=\"29c127311bb28c0fe08645644ceb8634\", element=\"f.A06B0E19AA7E66A6E192A405B96E94FE.d.95F95D57FE33E9223A2D402853FF9B0C.e.59\")>, <selenium.webdriver.remote.webelement.WebElement (session=\"29c127311bb28c0fe08645644ceb8634\", element=\"f.A06B0E19AA7E66A6E192A405B96E94FE.d.95F95D57FE33E9223A2D402853FF9B0C.e.60\")>, <selenium.webdriver.remote.webelement.WebElement (session=\"29c127311bb28c0fe08645644ceb8634\", element=\"f.A06B0E19AA7E66A6E192A405B96E94FE.d.95F95D57FE33E9223A2D402853FF9B0C.e.61\")>, <selenium.webdriver.remote.webelement.WebElement (session=\"29c127311bb28c0fe08645644ceb8634\", element=\"f.A06B0E19AA7E66A6E192A405B96E94FE.d.95F95D57FE33E9223A2D402853FF9B0C.e.62\")>, <selenium.webdriver.remote.webelement.WebElement (session=\"29c127311bb28c0fe08645644ceb8634\", element=\"f.A06B0E19AA7E66A6E192A405B96E94FE.d.95F95D57FE33E9223A2D402853FF9B0C.e.63\")>, <selenium.webdriver.remote.webelement.WebElement (session=\"29c127311bb28c0fe08645644ceb8634\", element=\"f.A06B0E19AA7E66A6E192A405B96E94FE.d.95F95D57FE33E9223A2D402853FF9B0C.e.64\")>, <selenium.webdriver.remote.webelement.WebElement (session=\"29c127311bb28c0fe08645644ceb8634\", element=\"f.A06B0E19AA7E66A6E192A405B96E94FE.d.95F95D57FE33E9223A2D402853FF9B0C.e.65\")>, <selenium.webdriver.remote.webelement.WebElement (session=\"29c127311bb28c0fe08645644ceb8634\", element=\"f.A06B0E19AA7E66A6E192A405B96E94FE.d.95F95D57FE33E9223A2D402853FF9B0C.e.68\")>, <selenium.webdriver.remote.webelement.WebElement (session=\"29c127311bb28c0fe08645644ceb8634\", element=\"f.A06B0E19AA7E66A6E192A405B96E94FE.d.95F95D57FE33E9223A2D402853FF9B0C.e.69\")>, <selenium.webdriver.remote.webelement.WebElement (session=\"29c127311bb28c0fe08645644ceb8634\", element=\"f.A06B0E19AA7E66A6E192A405B96E94FE.d.95F95D57FE33E9223A2D402853FF9B0C.e.70\")>, <selenium.webdriver.remote.webelement.WebElement (session=\"29c127311bb28c0fe08645644ceb8634\", element=\"f.A06B0E19AA7E66A6E192A405B96E94FE.d.95F95D57FE33E9223A2D402853FF9B0C.e.71\")>, <selenium.webdriver.remote.webelement.WebElement (session=\"29c127311bb28c0fe08645644ceb8634\", element=\"f.A06B0E19AA7E66A6E192A405B96E94FE.d.95F95D57FE33E9223A2D402853FF9B0C.e.72\")>, <selenium.webdriver.remote.webelement.WebElement (session=\"29c127311bb28c0fe08645644ceb8634\", element=\"f.A06B0E19AA7E66A6E192A405B96E94FE.d.95F95D57FE33E9223A2D402853FF9B0C.e.73\")>, <selenium.webdriver.remote.webelement.WebElement (session=\"29c127311bb28c0fe08645644ceb8634\", element=\"f.A06B0E19AA7E66A6E192A405B96E94FE.d.95F95D57FE33E9223A2D402853FF9B0C.e.74\")>, <selenium.webdriver.remote.webelement.WebElement (session=\"29c127311bb28c0fe08645644ceb8634\", element=\"f.A06B0E19AA7E66A6E192A405B96E94FE.d.95F95D57FE33E9223A2D402853FF9B0C.e.75\")>, <selenium.webdriver.remote.webelement.WebElement (session=\"29c127311bb28c0fe08645644ceb8634\", element=\"f.A06B0E19AA7E66A6E192A405B96E94FE.d.95F95D57FE33E9223A2D402853FF9B0C.e.76\")>, <selenium.webdriver.remote.webelement.WebElement (session=\"29c127311bb28c0fe08645644ceb8634\", element=\"f.A06B0E19AA7E66A6E192A405B96E94FE.d.95F95D57FE33E9223A2D402853FF9B0C.e.77\")>, <selenium.webdriver.remote.webelement.WebElement (session=\"29c127311bb28c0fe08645644ceb8634\", element=\"f.A06B0E19AA7E66A6E192A405B96E94FE.d.95F95D57FE33E9223A2D402853FF9B0C.e.80\")>, <selenium.webdriver.remote.webelement.WebElement (session=\"29c127311bb28c0fe08645644ceb8634\", element=\"f.A06B0E19AA7E66A6E192A405B96E94FE.d.95F95D57FE33E9223A2D402853FF9B0C.e.81\")>, <selenium.webdriver.remote.webelement.WebElement (session=\"29c127311bb28c0fe08645644ceb8634\", element=\"f.A06B0E19AA7E66A6E192A405B96E94FE.d.95F95D57FE33E9223A2D402853FF9B0C.e.82\")>, <selenium.webdriver.remote.webelement.WebElement (session=\"29c127311bb28c0fe08645644ceb8634\", element=\"f.A06B0E19AA7E66A6E192A405B96E94FE.d.95F95D57FE33E9223A2D402853FF9B0C.e.83\")>, <selenium.webdriver.remote.webelement.WebElement (session=\"29c127311bb28c0fe08645644ceb8634\", element=\"f.A06B0E19AA7E66A6E192A405B96E94FE.d.95F95D57FE33E9223A2D402853FF9B0C.e.84\")>, <selenium.webdriver.remote.webelement.WebElement (session=\"29c127311bb28c0fe08645644ceb8634\", element=\"f.A06B0E19AA7E66A6E192A405B96E94FE.d.95F95D57FE33E9223A2D402853FF9B0C.e.85\")>, <selenium.webdriver.remote.webelement.WebElement (session=\"29c127311bb28c0fe08645644ceb8634\", element=\"f.A06B0E19AA7E66A6E192A405B96E94FE.d.95F95D57FE33E9223A2D402853FF9B0C.e.86\")>, <selenium.webdriver.remote.webelement.WebElement (session=\"29c127311bb28c0fe08645644ceb8634\", element=\"f.A06B0E19AA7E66A6E192A405B96E94FE.d.95F95D57FE33E9223A2D402853FF9B0C.e.87\")>, <selenium.webdriver.remote.webelement.WebElement (session=\"29c127311bb28c0fe08645644ceb8634\", element=\"f.A06B0E19AA7E66A6E192A405B96E94FE.d.95F95D57FE33E9223A2D402853FF9B0C.e.88\")>, <selenium.webdriver.remote.webelement.WebElement (session=\"29c127311bb28c0fe08645644ceb8634\", element=\"f.A06B0E19AA7E66A6E192A405B96E94FE.d.95F95D57FE33E9223A2D402853FF9B0C.e.89\")>, <selenium.webdriver.remote.webelement.WebElement (session=\"29c127311bb28c0fe08645644ceb8634\", element=\"f.A06B0E19AA7E66A6E192A405B96E94FE.d.95F95D57FE33E9223A2D402853FF9B0C.e.92\")>, <selenium.webdriver.remote.webelement.WebElement (session=\"29c127311bb28c0fe08645644ceb8634\", element=\"f.A06B0E19AA7E66A6E192A405B96E94FE.d.95F95D57FE33E9223A2D402853FF9B0C.e.93\")>, <selenium.webdriver.remote.webelement.WebElement (session=\"29c127311bb28c0fe08645644ceb8634\", element=\"f.A06B0E19AA7E66A6E192A405B96E94FE.d.95F95D57FE33E9223A2D402853FF9B0C.e.94\")>, <selenium.webdriver.remote.webelement.WebElement (session=\"29c127311bb28c0fe08645644ceb8634\", element=\"f.A06B0E19AA7E66A6E192A405B96E94FE.d.95F95D57FE33E9223A2D402853FF9B0C.e.95\")>, <selenium.webdriver.remote.webelement.WebElement (session=\"29c127311bb28c0fe08645644ceb8634\", element=\"f.A06B0E19AA7E66A6E192A405B96E94FE.d.95F95D57FE33E9223A2D402853FF9B0C.e.96\")>, <selenium.webdriver.remote.webelement.WebElement (session=\"29c127311bb28c0fe08645644ceb8634\", element=\"f.A06B0E19AA7E66A6E192A405B96E94FE.d.95F95D57FE33E9223A2D402853FF9B0C.e.97\")>, <selenium.webdriver.remote.webelement.WebElement (session=\"29c127311bb28c0fe08645644ceb8634\", element=\"f.A06B0E19AA7E66A6E192A405B96E94FE.d.95F95D57FE33E9223A2D402853FF9B0C.e.98\")>, <selenium.webdriver.remote.webelement.WebElement (session=\"29c127311bb28c0fe08645644ceb8634\", element=\"f.A06B0E19AA7E66A6E192A405B96E94FE.d.95F95D57FE33E9223A2D402853FF9B0C.e.99\")>, <selenium.webdriver.remote.webelement.WebElement (session=\"29c127311bb28c0fe08645644ceb8634\", element=\"f.A06B0E19AA7E66A6E192A405B96E94FE.d.95F95D57FE33E9223A2D402853FF9B0C.e.100\")>, <selenium.webdriver.remote.webelement.WebElement (session=\"29c127311bb28c0fe08645644ceb8634\", element=\"f.A06B0E19AA7E66A6E192A405B96E94FE.d.95F95D57FE33E9223A2D402853FF9B0C.e.101\")>, <selenium.webdriver.remote.webelement.WebElement (session=\"29c127311bb28c0fe08645644ceb8634\", element=\"f.A06B0E19AA7E66A6E192A405B96E94FE.d.95F95D57FE33E9223A2D402853FF9B0C.e.104\")>, <selenium.webdriver.remote.webelement.WebElement (session=\"29c127311bb28c0fe08645644ceb8634\", element=\"f.A06B0E19AA7E66A6E192A405B96E94FE.d.95F95D57FE33E9223A2D402853FF9B0C.e.105\")>, <selenium.webdriver.remote.webelement.WebElement (session=\"29c127311bb28c0fe08645644ceb8634\", element=\"f.A06B0E19AA7E66A6E192A405B96E94FE.d.95F95D57FE33E9223A2D402853FF9B0C.e.106\")>, <selenium.webdriver.remote.webelement.WebElement (session=\"29c127311bb28c0fe08645644ceb8634\", element=\"f.A06B0E19AA7E66A6E192A405B96E94FE.d.95F95D57FE33E9223A2D402853FF9B0C.e.107\")>, <selenium.webdriver.remote.webelement.WebElement (session=\"29c127311bb28c0fe08645644ceb8634\", element=\"f.A06B0E19AA7E66A6E192A405B96E94FE.d.95F95D57FE33E9223A2D402853FF9B0C.e.108\")>, <selenium.webdriver.remote.webelement.WebElement (session=\"29c127311bb28c0fe08645644ceb8634\", element=\"f.A06B0E19AA7E66A6E192A405B96E94FE.d.95F95D57FE33E9223A2D402853FF9B0C.e.109\")>, <selenium.webdriver.remote.webelement.WebElement (session=\"29c127311bb28c0fe08645644ceb8634\", element=\"f.A06B0E19AA7E66A6E192A405B96E94FE.d.95F95D57FE33E9223A2D402853FF9B0C.e.110\")>, <selenium.webdriver.remote.webelement.WebElement (session=\"29c127311bb28c0fe08645644ceb8634\", element=\"f.A06B0E19AA7E66A6E192A405B96E94FE.d.95F95D57FE33E9223A2D402853FF9B0C.e.111\")>, <selenium.webdriver.remote.webelement.WebElement (session=\"29c127311bb28c0fe08645644ceb8634\", element=\"f.A06B0E19AA7E66A6E192A405B96E94FE.d.95F95D57FE33E9223A2D402853FF9B0C.e.112\")>, <selenium.webdriver.remote.webelement.WebElement (session=\"29c127311bb28c0fe08645644ceb8634\", element=\"f.A06B0E19AA7E66A6E192A405B96E94FE.d.95F95D57FE33E9223A2D402853FF9B0C.e.113\")>, <selenium.webdriver.remote.webelement.WebElement (session=\"29c127311bb28c0fe08645644ceb8634\", element=\"f.A06B0E19AA7E66A6E192A405B96E94FE.d.95F95D57FE33E9223A2D402853FF9B0C.e.117\")>, <selenium.webdriver.remote.webelement.WebElement (session=\"29c127311bb28c0fe08645644ceb8634\", element=\"f.A06B0E19AA7E66A6E192A405B96E94FE.d.95F95D57FE33E9223A2D402853FF9B0C.e.118\")>, <selenium.webdriver.remote.webelement.WebElement (session=\"29c127311bb28c0fe08645644ceb8634\", element=\"f.A06B0E19AA7E66A6E192A405B96E94FE.d.95F95D57FE33E9223A2D402853FF9B0C.e.119\")>, <selenium.webdriver.remote.webelement.WebElement (session=\"29c127311bb28c0fe08645644ceb8634\", element=\"f.A06B0E19AA7E66A6E192A405B96E94FE.d.95F95D57FE33E9223A2D402853FF9B0C.e.120\")>, <selenium.webdriver.remote.webelement.WebElement (session=\"29c127311bb28c0fe08645644ceb8634\", element=\"f.A06B0E19AA7E66A6E192A405B96E94FE.d.95F95D57FE33E9223A2D402853FF9B0C.e.121\")>, <selenium.webdriver.remote.webelement.WebElement (session=\"29c127311bb28c0fe08645644ceb8634\", element=\"f.A06B0E19AA7E66A6E192A405B96E94FE.d.95F95D57FE33E9223A2D402853FF9B0C.e.122\")>, <selenium.webdriver.remote.webelement.WebElement (session=\"29c127311bb28c0fe08645644ceb8634\", element=\"f.A06B0E19AA7E66A6E192A405B96E94FE.d.95F95D57FE33E9223A2D402853FF9B0C.e.123\")>, <selenium.webdriver.remote.webelement.WebElement (session=\"29c127311bb28c0fe08645644ceb8634\", element=\"f.A06B0E19AA7E66A6E192A405B96E94FE.d.95F95D57FE33E9223A2D402853FF9B0C.e.124\")>, <selenium.webdriver.remote.webelement.WebElement (session=\"29c127311bb28c0fe08645644ceb8634\", element=\"f.A06B0E19AA7E66A6E192A405B96E94FE.d.95F95D57FE33E9223A2D402853FF9B0C.e.125\")>, <selenium.webdriver.remote.webelement.WebElement (session=\"29c127311bb28c0fe08645644ceb8634\", element=\"f.A06B0E19AA7E66A6E192A405B96E94FE.d.95F95D57FE33E9223A2D402853FF9B0C.e.126\")>, <selenium.webdriver.remote.webelement.WebElement (session=\"29c127311bb28c0fe08645644ceb8634\", element=\"f.A06B0E19AA7E66A6E192A405B96E94FE.d.95F95D57FE33E9223A2D402853FF9B0C.e.129\")>, <selenium.webdriver.remote.webelement.WebElement (session=\"29c127311bb28c0fe08645644ceb8634\", element=\"f.A06B0E19AA7E66A6E192A405B96E94FE.d.95F95D57FE33E9223A2D402853FF9B0C.e.130\")>, <selenium.webdriver.remote.webelement.WebElement (session=\"29c127311bb28c0fe08645644ceb8634\", element=\"f.A06B0E19AA7E66A6E192A405B96E94FE.d.95F95D57FE33E9223A2D402853FF9B0C.e.131\")>, <selenium.webdriver.remote.webelement.WebElement (session=\"29c127311bb28c0fe08645644ceb8634\", element=\"f.A06B0E19AA7E66A6E192A405B96E94FE.d.95F95D57FE33E9223A2D402853FF9B0C.e.132\")>, <selenium.webdriver.remote.webelement.WebElement (session=\"29c127311bb28c0fe08645644ceb8634\", element=\"f.A06B0E19AA7E66A6E192A405B96E94FE.d.95F95D57FE33E9223A2D402853FF9B0C.e.133\")>, <selenium.webdriver.remote.webelement.WebElement (session=\"29c127311bb28c0fe08645644ceb8634\", element=\"f.A06B0E19AA7E66A6E192A405B96E94FE.d.95F95D57FE33E9223A2D402853FF9B0C.e.134\")>, <selenium.webdriver.remote.webelement.WebElement (session=\"29c127311bb28c0fe08645644ceb8634\", element=\"f.A06B0E19AA7E66A6E192A405B96E94FE.d.95F95D57FE33E9223A2D402853FF9B0C.e.135\")>, <selenium.webdriver.remote.webelement.WebElement (session=\"29c127311bb28c0fe08645644ceb8634\", element=\"f.A06B0E19AA7E66A6E192A405B96E94FE.d.95F95D57FE33E9223A2D402853FF9B0C.e.136\")>, <selenium.webdriver.remote.webelement.WebElement (session=\"29c127311bb28c0fe08645644ceb8634\", element=\"f.A06B0E19AA7E66A6E192A405B96E94FE.d.95F95D57FE33E9223A2D402853FF9B0C.e.137\")>, <selenium.webdriver.remote.webelement.WebElement (session=\"29c127311bb28c0fe08645644ceb8634\", element=\"f.A06B0E19AA7E66A6E192A405B96E94FE.d.95F95D57FE33E9223A2D402853FF9B0C.e.138\")>, <selenium.webdriver.remote.webelement.WebElement (session=\"29c127311bb28c0fe08645644ceb8634\", element=\"f.A06B0E19AA7E66A6E192A405B96E94FE.d.95F95D57FE33E9223A2D402853FF9B0C.e.141\")>, <selenium.webdriver.remote.webelement.WebElement (session=\"29c127311bb28c0fe08645644ceb8634\", element=\"f.A06B0E19AA7E66A6E192A405B96E94FE.d.95F95D57FE33E9223A2D402853FF9B0C.e.142\")>, <selenium.webdriver.remote.webelement.WebElement (session=\"29c127311bb28c0fe08645644ceb8634\", element=\"f.A06B0E19AA7E66A6E192A405B96E94FE.d.95F95D57FE33E9223A2D402853FF9B0C.e.143\")>, <selenium.webdriver.remote.webelement.WebElement (session=\"29c127311bb28c0fe08645644ceb8634\", element=\"f.A06B0E19AA7E66A6E192A405B96E94FE.d.95F95D57FE33E9223A2D402853FF9B0C.e.144\")>, <selenium.webdriver.remote.webelement.WebElement (session=\"29c127311bb28c0fe08645644ceb8634\", element=\"f.A06B0E19AA7E66A6E192A405B96E94FE.d.95F95D57FE33E9223A2D402853FF9B0C.e.145\")>, <selenium.webdriver.remote.webelement.WebElement (session=\"29c127311bb28c0fe08645644ceb8634\", element=\"f.A06B0E19AA7E66A6E192A405B96E94FE.d.95F95D57FE33E9223A2D402853FF9B0C.e.146\")>, <selenium.webdriver.remote.webelement.WebElement (session=\"29c127311bb28c0fe08645644ceb8634\", element=\"f.A06B0E19AA7E66A6E192A405B96E94FE.d.95F95D57FE33E9223A2D402853FF9B0C.e.147\")>, <selenium.webdriver.remote.webelement.WebElement (session=\"29c127311bb28c0fe08645644ceb8634\", element=\"f.A06B0E19AA7E66A6E192A405B96E94FE.d.95F95D57FE33E9223A2D402853FF9B0C.e.148\")>, <selenium.webdriver.remote.webelement.WebElement (session=\"29c127311bb28c0fe08645644ceb8634\", element=\"f.A06B0E19AA7E66A6E192A405B96E94FE.d.95F95D57FE33E9223A2D402853FF9B0C.e.149\")>, <selenium.webdriver.remote.webelement.WebElement (session=\"29c127311bb28c0fe08645644ceb8634\", element=\"f.A06B0E19AA7E66A6E192A405B96E94FE.d.95F95D57FE33E9223A2D402853FF9B0C.e.150\")>, <selenium.webdriver.remote.webelement.WebElement (session=\"29c127311bb28c0fe08645644ceb8634\", element=\"f.A06B0E19AA7E66A6E192A405B96E94FE.d.95F95D57FE33E9223A2D402853FF9B0C.e.152\")>, <selenium.webdriver.remote.webelement.WebElement (session=\"29c127311bb28c0fe08645644ceb8634\", element=\"f.A06B0E19AA7E66A6E192A405B96E94FE.d.95F95D57FE33E9223A2D402853FF9B0C.e.153\")>, <selenium.webdriver.remote.webelement.WebElement (session=\"29c127311bb28c0fe08645644ceb8634\", element=\"f.A06B0E19AA7E66A6E192A405B96E94FE.d.95F95D57FE33E9223A2D402853FF9B0C.e.154\")>, <selenium.webdriver.remote.webelement.WebElement (session=\"29c127311bb28c0fe08645644ceb8634\", element=\"f.A06B0E19AA7E66A6E192A405B96E94FE.d.95F95D57FE33E9223A2D402853FF9B0C.e.155\")>, <selenium.webdriver.remote.webelement.WebElement (session=\"29c127311bb28c0fe08645644ceb8634\", element=\"f.A06B0E19AA7E66A6E192A405B96E94FE.d.95F95D57FE33E9223A2D402853FF9B0C.e.156\")>, <selenium.webdriver.remote.webelement.WebElement (session=\"29c127311bb28c0fe08645644ceb8634\", element=\"f.A06B0E19AA7E66A6E192A405B96E94FE.d.95F95D57FE33E9223A2D402853FF9B0C.e.157\")>, <selenium.webdriver.remote.webelement.WebElement (session=\"29c127311bb28c0fe08645644ceb8634\", element=\"f.A06B0E19AA7E66A6E192A405B96E94FE.d.95F95D57FE33E9223A2D402853FF9B0C.e.158\")>, <selenium.webdriver.remote.webelement.WebElement (session=\"29c127311bb28c0fe08645644ceb8634\", element=\"f.A06B0E19AA7E66A6E192A405B96E94FE.d.95F95D57FE33E9223A2D402853FF9B0C.e.159\")>, <selenium.webdriver.remote.webelement.WebElement (session=\"29c127311bb28c0fe08645644ceb8634\", element=\"f.A06B0E19AA7E66A6E192A405B96E94FE.d.95F95D57FE33E9223A2D402853FF9B0C.e.160\")>, <selenium.webdriver.remote.webelement.WebElement (session=\"29c127311bb28c0fe08645644ceb8634\", element=\"f.A06B0E19AA7E66A6E192A405B96E94FE.d.95F95D57FE33E9223A2D402853FF9B0C.e.161\")>, <selenium.webdriver.remote.webelement.WebElement (session=\"29c127311bb28c0fe08645644ceb8634\", element=\"f.A06B0E19AA7E66A6E192A405B96E94FE.d.95F95D57FE33E9223A2D402853FF9B0C.e.164\")>, <selenium.webdriver.remote.webelement.WebElement (session=\"29c127311bb28c0fe08645644ceb8634\", element=\"f.A06B0E19AA7E66A6E192A405B96E94FE.d.95F95D57FE33E9223A2D402853FF9B0C.e.165\")>, <selenium.webdriver.remote.webelement.WebElement (session=\"29c127311bb28c0fe08645644ceb8634\", element=\"f.A06B0E19AA7E66A6E192A405B96E94FE.d.95F95D57FE33E9223A2D402853FF9B0C.e.166\")>, <selenium.webdriver.remote.webelement.WebElement (session=\"29c127311bb28c0fe08645644ceb8634\", element=\"f.A06B0E19AA7E66A6E192A405B96E94FE.d.95F95D57FE33E9223A2D402853FF9B0C.e.167\")>, <selenium.webdriver.remote.webelement.WebElement (session=\"29c127311bb28c0fe08645644ceb8634\", element=\"f.A06B0E19AA7E66A6E192A405B96E94FE.d.95F95D57FE33E9223A2D402853FF9B0C.e.168\")>, <selenium.webdriver.remote.webelement.WebElement (session=\"29c127311bb28c0fe08645644ceb8634\", element=\"f.A06B0E19AA7E66A6E192A405B96E94FE.d.95F95D57FE33E9223A2D402853FF9B0C.e.169\")>, <selenium.webdriver.remote.webelement.WebElement (session=\"29c127311bb28c0fe08645644ceb8634\", element=\"f.A06B0E19AA7E66A6E192A405B96E94FE.d.95F95D57FE33E9223A2D402853FF9B0C.e.170\")>, <selenium.webdriver.remote.webelement.WebElement (session=\"29c127311bb28c0fe08645644ceb8634\", element=\"f.A06B0E19AA7E66A6E192A405B96E94FE.d.95F95D57FE33E9223A2D402853FF9B0C.e.171\")>, <selenium.webdriver.remote.webelement.WebElement (session=\"29c127311bb28c0fe08645644ceb8634\", element=\"f.A06B0E19AA7E66A6E192A405B96E94FE.d.95F95D57FE33E9223A2D402853FF9B0C.e.172\")>, <selenium.webdriver.remote.webelement.WebElement (session=\"29c127311bb28c0fe08645644ceb8634\", element=\"f.A06B0E19AA7E66A6E192A405B96E94FE.d.95F95D57FE33E9223A2D402853FF9B0C.e.173\")>, <selenium.webdriver.remote.webelement.WebElement (session=\"29c127311bb28c0fe08645644ceb8634\", element=\"f.A06B0E19AA7E66A6E192A405B96E94FE.d.95F95D57FE33E9223A2D402853FF9B0C.e.176\")>, <selenium.webdriver.remote.webelement.WebElement (session=\"29c127311bb28c0fe08645644ceb8634\", element=\"f.A06B0E19AA7E66A6E192A405B96E94FE.d.95F95D57FE33E9223A2D402853FF9B0C.e.177\")>, <selenium.webdriver.remote.webelement.WebElement (session=\"29c127311bb28c0fe08645644ceb8634\", element=\"f.A06B0E19AA7E66A6E192A405B96E94FE.d.95F95D57FE33E9223A2D402853FF9B0C.e.178\")>, <selenium.webdriver.remote.webelement.WebElement (session=\"29c127311bb28c0fe08645644ceb8634\", element=\"f.A06B0E19AA7E66A6E192A405B96E94FE.d.95F95D57FE33E9223A2D402853FF9B0C.e.179\")>, <selenium.webdriver.remote.webelement.WebElement (session=\"29c127311bb28c0fe08645644ceb8634\", element=\"f.A06B0E19AA7E66A6E192A405B96E94FE.d.95F95D57FE33E9223A2D402853FF9B0C.e.180\")>, <selenium.webdriver.remote.webelement.WebElement (session=\"29c127311bb28c0fe08645644ceb8634\", element=\"f.A06B0E19AA7E66A6E192A405B96E94FE.d.95F95D57FE33E9223A2D402853FF9B0C.e.181\")>, <selenium.webdriver.remote.webelement.WebElement (session=\"29c127311bb28c0fe08645644ceb8634\", element=\"f.A06B0E19AA7E66A6E192A405B96E94FE.d.95F95D57FE33E9223A2D402853FF9B0C.e.182\")>, <selenium.webdriver.remote.webelement.WebElement (session=\"29c127311bb28c0fe08645644ceb8634\", element=\"f.A06B0E19AA7E66A6E192A405B96E94FE.d.95F95D57FE33E9223A2D402853FF9B0C.e.183\")>, <selenium.webdriver.remote.webelement.WebElement (session=\"29c127311bb28c0fe08645644ceb8634\", element=\"f.A06B0E19AA7E66A6E192A405B96E94FE.d.95F95D57FE33E9223A2D402853FF9B0C.e.184\")>, <selenium.webdriver.remote.webelement.WebElement (session=\"29c127311bb28c0fe08645644ceb8634\", element=\"f.A06B0E19AA7E66A6E192A405B96E94FE.d.95F95D57FE33E9223A2D402853FF9B0C.e.185\")>, <selenium.webdriver.remote.webelement.WebElement (session=\"29c127311bb28c0fe08645644ceb8634\", element=\"f.A06B0E19AA7E66A6E192A405B96E94FE.d.95F95D57FE33E9223A2D402853FF9B0C.e.188\")>, <selenium.webdriver.remote.webelement.WebElement (session=\"29c127311bb28c0fe08645644ceb8634\", element=\"f.A06B0E19AA7E66A6E192A405B96E94FE.d.95F95D57FE33E9223A2D402853FF9B0C.e.189\")>, <selenium.webdriver.remote.webelement.WebElement (session=\"29c127311bb28c0fe08645644ceb8634\", element=\"f.A06B0E19AA7E66A6E192A405B96E94FE.d.95F95D57FE33E9223A2D402853FF9B0C.e.190\")>, <selenium.webdriver.remote.webelement.WebElement (session=\"29c127311bb28c0fe08645644ceb8634\", element=\"f.A06B0E19AA7E66A6E192A405B96E94FE.d.95F95D57FE33E9223A2D402853FF9B0C.e.191\")>, <selenium.webdriver.remote.webelement.WebElement (session=\"29c127311bb28c0fe08645644ceb8634\", element=\"f.A06B0E19AA7E66A6E192A405B96E94FE.d.95F95D57FE33E9223A2D402853FF9B0C.e.192\")>, <selenium.webdriver.remote.webelement.WebElement (session=\"29c127311bb28c0fe08645644ceb8634\", element=\"f.A06B0E19AA7E66A6E192A405B96E94FE.d.95F95D57FE33E9223A2D402853FF9B0C.e.193\")>, <selenium.webdriver.remote.webelement.WebElement (session=\"29c127311bb28c0fe08645644ceb8634\", element=\"f.A06B0E19AA7E66A6E192A405B96E94FE.d.95F95D57FE33E9223A2D402853FF9B0C.e.194\")>, <selenium.webdriver.remote.webelement.WebElement (session=\"29c127311bb28c0fe08645644ceb8634\", element=\"f.A06B0E19AA7E66A6E192A405B96E94FE.d.95F95D57FE33E9223A2D402853FF9B0C.e.195\")>, <selenium.webdriver.remote.webelement.WebElement (session=\"29c127311bb28c0fe08645644ceb8634\", element=\"f.A06B0E19AA7E66A6E192A405B96E94FE.d.95F95D57FE33E9223A2D402853FF9B0C.e.196\")>, <selenium.webdriver.remote.webelement.WebElement (session=\"29c127311bb28c0fe08645644ceb8634\", element=\"f.A06B0E19AA7E66A6E192A405B96E94FE.d.95F95D57FE33E9223A2D402853FF9B0C.e.197\")>, <selenium.webdriver.remote.webelement.WebElement (session=\"29c127311bb28c0fe08645644ceb8634\", element=\"f.A06B0E19AA7E66A6E192A405B96E94FE.d.95F95D57FE33E9223A2D402853FF9B0C.e.200\")>, <selenium.webdriver.remote.webelement.WebElement (session=\"29c127311bb28c0fe08645644ceb8634\", element=\"f.A06B0E19AA7E66A6E192A405B96E94FE.d.95F95D57FE33E9223A2D402853FF9B0C.e.201\")>, <selenium.webdriver.remote.webelement.WebElement (session=\"29c127311bb28c0fe08645644ceb8634\", element=\"f.A06B0E19AA7E66A6E192A405B96E94FE.d.95F95D57FE33E9223A2D402853FF9B0C.e.202\")>, <selenium.webdriver.remote.webelement.WebElement (session=\"29c127311bb28c0fe08645644ceb8634\", element=\"f.A06B0E19AA7E66A6E192A405B96E94FE.d.95F95D57FE33E9223A2D402853FF9B0C.e.203\")>, <selenium.webdriver.remote.webelement.WebElement (session=\"29c127311bb28c0fe08645644ceb8634\", element=\"f.A06B0E19AA7E66A6E192A405B96E94FE.d.95F95D57FE33E9223A2D402853FF9B0C.e.204\")>, <selenium.webdriver.remote.webelement.WebElement (session=\"29c127311bb28c0fe08645644ceb8634\", element=\"f.A06B0E19AA7E66A6E192A405B96E94FE.d.95F95D57FE33E9223A2D402853FF9B0C.e.205\")>, <selenium.webdriver.remote.webelement.WebElement (session=\"29c127311bb28c0fe08645644ceb8634\", element=\"f.A06B0E19AA7E66A6E192A405B96E94FE.d.95F95D57FE33E9223A2D402853FF9B0C.e.206\")>, <selenium.webdriver.remote.webelement.WebElement (session=\"29c127311bb28c0fe08645644ceb8634\", element=\"f.A06B0E19AA7E66A6E192A405B96E94FE.d.95F95D57FE33E9223A2D402853FF9B0C.e.207\")>, <selenium.webdriver.remote.webelement.WebElement (session=\"29c127311bb28c0fe08645644ceb8634\", element=\"f.A06B0E19AA7E66A6E192A405B96E94FE.d.95F95D57FE33E9223A2D402853FF9B0C.e.208\")>, <selenium.webdriver.remote.webelement.WebElement (session=\"29c127311bb28c0fe08645644ceb8634\", element=\"f.A06B0E19AA7E66A6E192A405B96E94FE.d.95F95D57FE33E9223A2D402853FF9B0C.e.209\")>, <selenium.webdriver.remote.webelement.WebElement (session=\"29c127311bb28c0fe08645644ceb8634\", element=\"f.A06B0E19AA7E66A6E192A405B96E94FE.d.95F95D57FE33E9223A2D402853FF9B0C.e.212\")>, <selenium.webdriver.remote.webelement.WebElement (session=\"29c127311bb28c0fe08645644ceb8634\", element=\"f.A06B0E19AA7E66A6E192A405B96E94FE.d.95F95D57FE33E9223A2D402853FF9B0C.e.213\")>, <selenium.webdriver.remote.webelement.WebElement (session=\"29c127311bb28c0fe08645644ceb8634\", element=\"f.A06B0E19AA7E66A6E192A405B96E94FE.d.95F95D57FE33E9223A2D402853FF9B0C.e.214\")>, <selenium.webdriver.remote.webelement.WebElement (session=\"29c127311bb28c0fe08645644ceb8634\", element=\"f.A06B0E19AA7E66A6E192A405B96E94FE.d.95F95D57FE33E9223A2D402853FF9B0C.e.215\")>, <selenium.webdriver.remote.webelement.WebElement (session=\"29c127311bb28c0fe08645644ceb8634\", element=\"f.A06B0E19AA7E66A6E192A405B96E94FE.d.95F95D57FE33E9223A2D402853FF9B0C.e.216\")>, <selenium.webdriver.remote.webelement.WebElement (session=\"29c127311bb28c0fe08645644ceb8634\", element=\"f.A06B0E19AA7E66A6E192A405B96E94FE.d.95F95D57FE33E9223A2D402853FF9B0C.e.217\")>, <selenium.webdriver.remote.webelement.WebElement (session=\"29c127311bb28c0fe08645644ceb8634\", element=\"f.A06B0E19AA7E66A6E192A405B96E94FE.d.95F95D57FE33E9223A2D402853FF9B0C.e.218\")>, <selenium.webdriver.remote.webelement.WebElement (session=\"29c127311bb28c0fe08645644ceb8634\", element=\"f.A06B0E19AA7E66A6E192A405B96E94FE.d.95F95D57FE33E9223A2D402853FF9B0C.e.219\")>, <selenium.webdriver.remote.webelement.WebElement (session=\"29c127311bb28c0fe08645644ceb8634\", element=\"f.A06B0E19AA7E66A6E192A405B96E94FE.d.95F95D57FE33E9223A2D402853FF9B0C.e.220\")>, <selenium.webdriver.remote.webelement.WebElement (session=\"29c127311bb28c0fe08645644ceb8634\", element=\"f.A06B0E19AA7E66A6E192A405B96E94FE.d.95F95D57FE33E9223A2D402853FF9B0C.e.221\")>, <selenium.webdriver.remote.webelement.WebElement (session=\"29c127311bb28c0fe08645644ceb8634\", element=\"f.A06B0E19AA7E66A6E192A405B96E94FE.d.95F95D57FE33E9223A2D402853FF9B0C.e.224\")>, <selenium.webdriver.remote.webelement.WebElement (session=\"29c127311bb28c0fe08645644ceb8634\", element=\"f.A06B0E19AA7E66A6E192A405B96E94FE.d.95F95D57FE33E9223A2D402853FF9B0C.e.225\")>, <selenium.webdriver.remote.webelement.WebElement (session=\"29c127311bb28c0fe08645644ceb8634\", element=\"f.A06B0E19AA7E66A6E192A405B96E94FE.d.95F95D57FE33E9223A2D402853FF9B0C.e.226\")>, <selenium.webdriver.remote.webelement.WebElement (session=\"29c127311bb28c0fe08645644ceb8634\", element=\"f.A06B0E19AA7E66A6E192A405B96E94FE.d.95F95D57FE33E9223A2D402853FF9B0C.e.227\")>, <selenium.webdriver.remote.webelement.WebElement (session=\"29c127311bb28c0fe08645644ceb8634\", element=\"f.A06B0E19AA7E66A6E192A405B96E94FE.d.95F95D57FE33E9223A2D402853FF9B0C.e.228\")>, <selenium.webdriver.remote.webelement.WebElement (session=\"29c127311bb28c0fe08645644ceb8634\", element=\"f.A06B0E19AA7E66A6E192A405B96E94FE.d.95F95D57FE33E9223A2D402853FF9B0C.e.229\")>, <selenium.webdriver.remote.webelement.WebElement (session=\"29c127311bb28c0fe08645644ceb8634\", element=\"f.A06B0E19AA7E66A6E192A405B96E94FE.d.95F95D57FE33E9223A2D402853FF9B0C.e.230\")>, <selenium.webdriver.remote.webelement.WebElement (session=\"29c127311bb28c0fe08645644ceb8634\", element=\"f.A06B0E19AA7E66A6E192A405B96E94FE.d.95F95D57FE33E9223A2D402853FF9B0C.e.231\")>, <selenium.webdriver.remote.webelement.WebElement (session=\"29c127311bb28c0fe08645644ceb8634\", element=\"f.A06B0E19AA7E66A6E192A405B96E94FE.d.95F95D57FE33E9223A2D402853FF9B0C.e.232\")>, <selenium.webdriver.remote.webelement.WebElement (session=\"29c127311bb28c0fe08645644ceb8634\", element=\"f.A06B0E19AA7E66A6E192A405B96E94FE.d.95F95D57FE33E9223A2D402853FF9B0C.e.233\")>, <selenium.webdriver.remote.webelement.WebElement (session=\"29c127311bb28c0fe08645644ceb8634\", element=\"f.A06B0E19AA7E66A6E192A405B96E94FE.d.95F95D57FE33E9223A2D402853FF9B0C.e.236\")>, <selenium.webdriver.remote.webelement.WebElement (session=\"29c127311bb28c0fe08645644ceb8634\", element=\"f.A06B0E19AA7E66A6E192A405B96E94FE.d.95F95D57FE33E9223A2D402853FF9B0C.e.237\")>, <selenium.webdriver.remote.webelement.WebElement (session=\"29c127311bb28c0fe08645644ceb8634\", element=\"f.A06B0E19AA7E66A6E192A405B96E94FE.d.95F95D57FE33E9223A2D402853FF9B0C.e.238\")>, <selenium.webdriver.remote.webelement.WebElement (session=\"29c127311bb28c0fe08645644ceb8634\", element=\"f.A06B0E19AA7E66A6E192A405B96E94FE.d.95F95D57FE33E9223A2D402853FF9B0C.e.239\")>, <selenium.webdriver.remote.webelement.WebElement (session=\"29c127311bb28c0fe08645644ceb8634\", element=\"f.A06B0E19AA7E66A6E192A405B96E94FE.d.95F95D57FE33E9223A2D402853FF9B0C.e.240\")>, <selenium.webdriver.remote.webelement.WebElement (session=\"29c127311bb28c0fe08645644ceb8634\", element=\"f.A06B0E19AA7E66A6E192A405B96E94FE.d.95F95D57FE33E9223A2D402853FF9B0C.e.241\")>, <selenium.webdriver.remote.webelement.WebElement (session=\"29c127311bb28c0fe08645644ceb8634\", element=\"f.A06B0E19AA7E66A6E192A405B96E94FE.d.95F95D57FE33E9223A2D402853FF9B0C.e.242\")>, <selenium.webdriver.remote.webelement.WebElement (session=\"29c127311bb28c0fe08645644ceb8634\", element=\"f.A06B0E19AA7E66A6E192A405B96E94FE.d.95F95D57FE33E9223A2D402853FF9B0C.e.243\")>, <selenium.webdriver.remote.webelement.WebElement (session=\"29c127311bb28c0fe08645644ceb8634\", element=\"f.A06B0E19AA7E66A6E192A405B96E94FE.d.95F95D57FE33E9223A2D402853FF9B0C.e.244\")>, <selenium.webdriver.remote.webelement.WebElement (session=\"29c127311bb28c0fe08645644ceb8634\", element=\"f.A06B0E19AA7E66A6E192A405B96E94FE.d.95F95D57FE33E9223A2D402853FF9B0C.e.245\")>, <selenium.webdriver.remote.webelement.WebElement (session=\"29c127311bb28c0fe08645644ceb8634\", element=\"f.A06B0E19AA7E66A6E192A405B96E94FE.d.95F95D57FE33E9223A2D402853FF9B0C.e.248\")>, <selenium.webdriver.remote.webelement.WebElement (session=\"29c127311bb28c0fe08645644ceb8634\", element=\"f.A06B0E19AA7E66A6E192A405B96E94FE.d.95F95D57FE33E9223A2D402853FF9B0C.e.249\")>, <selenium.webdriver.remote.webelement.WebElement (session=\"29c127311bb28c0fe08645644ceb8634\", element=\"f.A06B0E19AA7E66A6E192A405B96E94FE.d.95F95D57FE33E9223A2D402853FF9B0C.e.250\")>, <selenium.webdriver.remote.webelement.WebElement (session=\"29c127311bb28c0fe08645644ceb8634\", element=\"f.A06B0E19AA7E66A6E192A405B96E94FE.d.95F95D57FE33E9223A2D402853FF9B0C.e.251\")>, <selenium.webdriver.remote.webelement.WebElement (session=\"29c127311bb28c0fe08645644ceb8634\", element=\"f.A06B0E19AA7E66A6E192A405B96E94FE.d.95F95D57FE33E9223A2D402853FF9B0C.e.252\")>, <selenium.webdriver.remote.webelement.WebElement (session=\"29c127311bb28c0fe08645644ceb8634\", element=\"f.A06B0E19AA7E66A6E192A405B96E94FE.d.95F95D57FE33E9223A2D402853FF9B0C.e.253\")>, <selenium.webdriver.remote.webelement.WebElement (session=\"29c127311bb28c0fe08645644ceb8634\", element=\"f.A06B0E19AA7E66A6E192A405B96E94FE.d.95F95D57FE33E9223A2D402853FF9B0C.e.254\")>, <selenium.webdriver.remote.webelement.WebElement (session=\"29c127311bb28c0fe08645644ceb8634\", element=\"f.A06B0E19AA7E66A6E192A405B96E94FE.d.95F95D57FE33E9223A2D402853FF9B0C.e.255\")>, <selenium.webdriver.remote.webelement.WebElement (session=\"29c127311bb28c0fe08645644ceb8634\", element=\"f.A06B0E19AA7E66A6E192A405B96E94FE.d.95F95D57FE33E9223A2D402853FF9B0C.e.256\")>, <selenium.webdriver.remote.webelement.WebElement (session=\"29c127311bb28c0fe08645644ceb8634\", element=\"f.A06B0E19AA7E66A6E192A405B96E94FE.d.95F95D57FE33E9223A2D402853FF9B0C.e.257\")>, <selenium.webdriver.remote.webelement.WebElement (session=\"29c127311bb28c0fe08645644ceb8634\", element=\"f.A06B0E19AA7E66A6E192A405B96E94FE.d.95F95D57FE33E9223A2D402853FF9B0C.e.259\")>, <selenium.webdriver.remote.webelement.WebElement (session=\"29c127311bb28c0fe08645644ceb8634\", element=\"f.A06B0E19AA7E66A6E192A405B96E94FE.d.95F95D57FE33E9223A2D402853FF9B0C.e.260\")>, <selenium.webdriver.remote.webelement.WebElement (session=\"29c127311bb28c0fe08645644ceb8634\", element=\"f.A06B0E19AA7E66A6E192A405B96E94FE.d.95F95D57FE33E9223A2D402853FF9B0C.e.261\")>, <selenium.webdriver.remote.webelement.WebElement (session=\"29c127311bb28c0fe08645644ceb8634\", element=\"f.A06B0E19AA7E66A6E192A405B96E94FE.d.95F95D57FE33E9223A2D402853FF9B0C.e.262\")>, <selenium.webdriver.remote.webelement.WebElement (session=\"29c127311bb28c0fe08645644ceb8634\", element=\"f.A06B0E19AA7E66A6E192A405B96E94FE.d.95F95D57FE33E9223A2D402853FF9B0C.e.263\")>, <selenium.webdriver.remote.webelement.WebElement (session=\"29c127311bb28c0fe08645644ceb8634\", element=\"f.A06B0E19AA7E66A6E192A405B96E94FE.d.95F95D57FE33E9223A2D402853FF9B0C.e.264\")>, <selenium.webdriver.remote.webelement.WebElement (session=\"29c127311bb28c0fe08645644ceb8634\", element=\"f.A06B0E19AA7E66A6E192A405B96E94FE.d.95F95D57FE33E9223A2D402853FF9B0C.e.265\")>, <selenium.webdriver.remote.webelement.WebElement (session=\"29c127311bb28c0fe08645644ceb8634\", element=\"f.A06B0E19AA7E66A6E192A405B96E94FE.d.95F95D57FE33E9223A2D402853FF9B0C.e.266\")>, <selenium.webdriver.remote.webelement.WebElement (session=\"29c127311bb28c0fe08645644ceb8634\", element=\"f.A06B0E19AA7E66A6E192A405B96E94FE.d.95F95D57FE33E9223A2D402853FF9B0C.e.267\")>, <selenium.webdriver.remote.webelement.WebElement (session=\"29c127311bb28c0fe08645644ceb8634\", element=\"f.A06B0E19AA7E66A6E192A405B96E94FE.d.95F95D57FE33E9223A2D402853FF9B0C.e.268\")>, <selenium.webdriver.remote.webelement.WebElement (session=\"29c127311bb28c0fe08645644ceb8634\", element=\"f.A06B0E19AA7E66A6E192A405B96E94FE.d.95F95D57FE33E9223A2D402853FF9B0C.e.270\")>, <selenium.webdriver.remote.webelement.WebElement (session=\"29c127311bb28c0fe08645644ceb8634\", element=\"f.A06B0E19AA7E66A6E192A405B96E94FE.d.95F95D57FE33E9223A2D402853FF9B0C.e.271\")>, <selenium.webdriver.remote.webelement.WebElement (session=\"29c127311bb28c0fe08645644ceb8634\", element=\"f.A06B0E19AA7E66A6E192A405B96E94FE.d.95F95D57FE33E9223A2D402853FF9B0C.e.272\")>, <selenium.webdriver.remote.webelement.WebElement (session=\"29c127311bb28c0fe08645644ceb8634\", element=\"f.A06B0E19AA7E66A6E192A405B96E94FE.d.95F95D57FE33E9223A2D402853FF9B0C.e.273\")>, <selenium.webdriver.remote.webelement.WebElement (session=\"29c127311bb28c0fe08645644ceb8634\", element=\"f.A06B0E19AA7E66A6E192A405B96E94FE.d.95F95D57FE33E9223A2D402853FF9B0C.e.274\")>, <selenium.webdriver.remote.webelement.WebElement (session=\"29c127311bb28c0fe08645644ceb8634\", element=\"f.A06B0E19AA7E66A6E192A405B96E94FE.d.95F95D57FE33E9223A2D402853FF9B0C.e.275\")>, <selenium.webdriver.remote.webelement.WebElement (session=\"29c127311bb28c0fe08645644ceb8634\", element=\"f.A06B0E19AA7E66A6E192A405B96E94FE.d.95F95D57FE33E9223A2D402853FF9B0C.e.276\")>, <selenium.webdriver.remote.webelement.WebElement (session=\"29c127311bb28c0fe08645644ceb8634\", element=\"f.A06B0E19AA7E66A6E192A405B96E94FE.d.95F95D57FE33E9223A2D402853FF9B0C.e.277\")>, <selenium.webdriver.remote.webelement.WebElement (session=\"29c127311bb28c0fe08645644ceb8634\", element=\"f.A06B0E19AA7E66A6E192A405B96E94FE.d.95F95D57FE33E9223A2D402853FF9B0C.e.278\")>, <selenium.webdriver.remote.webelement.WebElement (session=\"29c127311bb28c0fe08645644ceb8634\", element=\"f.A06B0E19AA7E66A6E192A405B96E94FE.d.95F95D57FE33E9223A2D402853FF9B0C.e.279\")>, <selenium.webdriver.remote.webelement.WebElement (session=\"29c127311bb28c0fe08645644ceb8634\", element=\"f.A06B0E19AA7E66A6E192A405B96E94FE.d.95F95D57FE33E9223A2D402853FF9B0C.e.282\")>, <selenium.webdriver.remote.webelement.WebElement (session=\"29c127311bb28c0fe08645644ceb8634\", element=\"f.A06B0E19AA7E66A6E192A405B96E94FE.d.95F95D57FE33E9223A2D402853FF9B0C.e.283\")>, <selenium.webdriver.remote.webelement.WebElement (session=\"29c127311bb28c0fe08645644ceb8634\", element=\"f.A06B0E19AA7E66A6E192A405B96E94FE.d.95F95D57FE33E9223A2D402853FF9B0C.e.284\")>, <selenium.webdriver.remote.webelement.WebElement (session=\"29c127311bb28c0fe08645644ceb8634\", element=\"f.A06B0E19AA7E66A6E192A405B96E94FE.d.95F95D57FE33E9223A2D402853FF9B0C.e.285\")>, <selenium.webdriver.remote.webelement.WebElement (session=\"29c127311bb28c0fe08645644ceb8634\", element=\"f.A06B0E19AA7E66A6E192A405B96E94FE.d.95F95D57FE33E9223A2D402853FF9B0C.e.286\")>, <selenium.webdriver.remote.webelement.WebElement (session=\"29c127311bb28c0fe08645644ceb8634\", element=\"f.A06B0E19AA7E66A6E192A405B96E94FE.d.95F95D57FE33E9223A2D402853FF9B0C.e.287\")>, <selenium.webdriver.remote.webelement.WebElement (session=\"29c127311bb28c0fe08645644ceb8634\", element=\"f.A06B0E19AA7E66A6E192A405B96E94FE.d.95F95D57FE33E9223A2D402853FF9B0C.e.288\")>, <selenium.webdriver.remote.webelement.WebElement (session=\"29c127311bb28c0fe08645644ceb8634\", element=\"f.A06B0E19AA7E66A6E192A405B96E94FE.d.95F95D57FE33E9223A2D402853FF9B0C.e.289\")>, <selenium.webdriver.remote.webelement.WebElement (session=\"29c127311bb28c0fe08645644ceb8634\", element=\"f.A06B0E19AA7E66A6E192A405B96E94FE.d.95F95D57FE33E9223A2D402853FF9B0C.e.290\")>, <selenium.webdriver.remote.webelement.WebElement (session=\"29c127311bb28c0fe08645644ceb8634\", element=\"f.A06B0E19AA7E66A6E192A405B96E94FE.d.95F95D57FE33E9223A2D402853FF9B0C.e.291\")>]\n"
     ]
    }
   ],
   "source": [
    "print(reviews)"
   ]
  },
  {
   "cell_type": "code",
   "execution_count": 9,
   "id": "37e6f599-be0b-43ba-b810-8f8f1284e0bb",
   "metadata": {},
   "outputs": [
    {
     "name": "stdout",
     "output_type": "stream",
     "text": [
      "HTML de reseñas guardado en raw_reviews.csv\n"
     ]
    }
   ],
   "source": [
    "with open(\"raw_reviews.csv\", mode=\"w\", encoding=\"utf-8\", newline='') as file:\n",
    "    writer = csv.writer(file, delimiter=\"|\", quoting=csv.QUOTE_MINIMAL)\n",
    "    writer.writerow([\"id\", \"html_review\"])\n",
    "\n",
    "    for i, review in enumerate(reviews):\n",
    "        html = review.get_attribute(\"innerHTML\").strip()\n",
    "        html = html.replace(\"|\", \"\")\n",
    "        writer.writerow([i+1, html])\n",
    "\n",
    "print(\"HTML de reseñas guardado en raw_reviews.csv\")\n"
   ]
  },
  {
   "cell_type": "code",
   "execution_count": 13,
   "id": "81d529ef-7ecb-4fd8-ba99-9ed72f480894",
   "metadata": {},
   "outputs": [],
   "source": [
    "driver.quit()"
   ]
  },
  {
   "cell_type": "markdown",
   "id": "acab231c-4b34-423f-8791-d7925f871f55",
   "metadata": {},
   "source": [
    "### extraer del html a un dataframe => csv las columnas necesarias."
   ]
  },
  {
   "cell_type": "code",
   "execution_count": 11,
   "id": "f8d9b146-de9f-4645-ab85-36e0a6117ae5",
   "metadata": {},
   "outputs": [],
   "source": [
    "import pandas as pd\n",
    "from bs4 import BeautifulSoup\n",
    "import re"
   ]
  },
  {
   "cell_type": "code",
   "execution_count": 15,
   "id": "8d791092-aa21-4c99-b77b-4654798af774",
   "metadata": {},
   "outputs": [],
   "source": [
    "# Cargar CSV original\n",
    "df = pd.read_csv(\"raw_reviews.csv\", delimiter=\"|\")\n"
   ]
  },
  {
   "cell_type": "code",
   "execution_count": 17,
   "id": "d2d6cea1-bac2-4c0f-8777-059bc9dbdc06",
   "metadata": {},
   "outputs": [],
   "source": [
    "# Función para extraer información\n",
    "def parse_html(html):\n",
    "    soup = BeautifulSoup(html, \"html.parser\")\n",
    "\n",
    "    # Clasificación: \"Recommended\" o \"Not Recommended\"\n",
    "    title = soup.find(\"div\", class_=\"title\")\n",
    "    classification = title.text.strip() if title else \"Sin clasificar\"\n",
    "\n",
    "    # Horas jugadas\n",
    "    hours_div = soup.find(\"div\", class_=\"hours\")\n",
    "    hours = hours_div.text.strip() if hours_div else \"Sin horas\"\n",
    "\n",
    "    # Comentario\n",
    "    comment_div = soup.find(\"div\", class_=\"apphub_CardTextContent\")\n",
    "    comment = comment_div.get_text(separator=\" \").strip() if comment_div else \"Comentario no encontrado\"\n",
    "\n",
    "    # Productos en cuenta\n",
    "    products_div = soup.find(\"div\", class_=\"apphub_CardContentMoreLink ellipsis\") \n",
    "    productos_en_cuenta = None\n",
    "    if products_div:\n",
    "        match = re.search(r'(\\d+)', products_div.text)\n",
    "        productos_en_cuenta = int(match.group(1)) if match else None\n",
    "\n",
    "    # Reacciones totales\n",
    "    reactions_div = soup.find(\"div\", class_=\"found_helpful\")\n",
    "    reacciones_totales = None\n",
    "    if reactions_div:\n",
    "        match = re.search(r'(\\d+)', reactions_div.text.replace(\",\", \"\"))\n",
    "        reacciones_totales = int(match.group(1)) if match else None\n",
    "\n",
    "    # Fecha de publicación\n",
    "    date_div = soup.find(\"div\", class_=\"date_posted\")\n",
    "    fecha_de_publicacion = date_div.text.replace(\"Posted: \", \"\").strip() if date_div else None\n",
    "\n",
    "    # Nombre de usuario\n",
    "    user_div = soup.find(\"div\", class_=\"apphub_CardContentAuthorName\")\n",
    "    username = user_div.text.strip() if user_div else \"Usuario desconocido\"\n",
    "\n",
    "    return classification, hours, comment, productos_en_cuenta, reacciones_totales, fecha_de_publicacion, username\n"
   ]
  },
  {
   "cell_type": "code",
   "execution_count": 19,
   "id": "b599a99f-2639-42ef-8bd7-49e74b1d9824",
   "metadata": {},
   "outputs": [
    {
     "name": "stdout",
     "output_type": "stream",
     "text": [
      "   id user_clasification              user_hours  \\\n",
      "0   1    Not Recommended   1,317.6 hrs on record   \n",
      "1   2        Recommended     676.8 hrs on record   \n",
      "2   3    Not Recommended  11,760.1 hrs on record   \n",
      "3   4    Not Recommended     234.6 hrs on record   \n",
      "4   5    Not Recommended      18.3 hrs on record   \n",
      "\n",
      "                                        user_comment  productos_en_cuenta  \\\n",
      "0  Posted: 17 June, 2023 \\n Early Access Review \\...                285.0   \n",
      "1  Posted: 1 July, 2023 \\n Early Access Review \\n...                134.0   \n",
      "2  Posted: 26 June, 2023 \\n Early Access Review \\...                  NaN   \n",
      "3  Posted: 29 April, 2024 \\n Early Access Review ...                  NaN   \n",
      "4  Posted: 17 June, 2023 \\n Early Access Review \\...                  7.0   \n",
      "\n",
      "   reacciones_totales fecha_de_publicacion  user_nickname  \n",
      "0                1606        17 June, 2023           Ivan  \n",
      "1                 597         1 July, 2023       Mocamoca  \n",
      "2                 537        26 June, 2023       VegaDark  \n",
      "3                 981       29 April, 2024           Fate  \n",
      "4                 816        17 June, 2023  danielschmitz  \n",
      "\n",
      "✅ ¡CSV limpio guardado como 'raw_reviews_processed.csv' con columnas nuevas!\n"
     ]
    }
   ],
   "source": [
    "\n",
    "# Aplicar la función a cada fila\n",
    "df[[ \n",
    "    \"user_clasification\",\n",
    "    \"user_hours\",\n",
    "    \"user_comment\",\n",
    "    \"productos_en_cuenta\",\n",
    "    \"reacciones_totales\",\n",
    "    \"fecha_de_publicacion\",\n",
    "    \"user_nickname\"\n",
    "]] = df[\"html_review\"].apply(lambda html: pd.Series(parse_html(html)))\n",
    "\n",
    "# Mostrar algunas filas\n",
    "print(df[[\n",
    "    \"id\",\n",
    "    \"user_clasification\",\n",
    "    \"user_hours\",\n",
    "    \"user_comment\",\n",
    "    \"productos_en_cuenta\",\n",
    "    \"reacciones_totales\",\n",
    "    \"fecha_de_publicacion\",\n",
    "    \"user_nickname\"\n",
    "]].head())\n",
    "\n",
    "# Guardar nuevo CSV limpio\n",
    "df.to_csv(\"raw_reviews_processed.csv\", index=False, sep=\"|\", encoding=\"utf-8\")\n",
    "\n",
    "print(\"\\n✅ ¡CSV limpio guardado como 'raw_reviews_processed.csv' con columnas nuevas!\")"
   ]
  }
 ],
 "metadata": {
  "kernelspec": {
   "display_name": "Python [conda env:base] *",
   "language": "python",
   "name": "conda-base-py"
  },
  "language_info": {
   "codemirror_mode": {
    "name": "ipython",
    "version": 3
   },
   "file_extension": ".py",
   "mimetype": "text/x-python",
   "name": "python",
   "nbconvert_exporter": "python",
   "pygments_lexer": "ipython3",
   "version": "3.12.7"
  }
 },
 "nbformat": 4,
 "nbformat_minor": 5
}
